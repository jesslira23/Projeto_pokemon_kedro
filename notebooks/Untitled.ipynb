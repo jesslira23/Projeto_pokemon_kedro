{
 "cells": [
  {
   "cell_type": "code",
   "execution_count": null,
   "id": "ea5b345b",
   "metadata": {},
   "outputs": [],
   "source": []
  },
  {
   "cell_type": "code",
   "execution_count": 1,
   "id": "bfe76abd",
   "metadata": {},
   "outputs": [
    {
     "data": {
      "text/plain": [
       "['pokemon', 'preprocessed_a', 'parameters']"
      ]
     },
     "execution_count": 1,
     "metadata": {},
     "output_type": "execute_result"
    }
   ],
   "source": [
    "catalog.list()"
   ]
  }
 ],
 "metadata": {
  "kernelspec": {
   "display_name": "Kedro (projeto_pokemon_kedro)",
   "language": "python",
   "name": "kedro_projeto_pokemon_kedro"
  },
  "language_info": {
   "codemirror_mode": {
    "name": "ipython",
    "version": 3
   },
   "file_extension": ".py",
   "mimetype": "text/x-python",
   "name": "python",
   "nbconvert_exporter": "python",
   "pygments_lexer": "ipython3",
   "version": "3.8.6"
  }
 },
 "nbformat": 4,
 "nbformat_minor": 5
}
